{
 "cells": [
  {
   "cell_type": "markdown",
   "id": "240a4aba",
   "metadata": {},
   "source": [
    "#                          Major League Baseball Acronyms"
   ]
  },
  {
   "cell_type": "markdown",
   "id": "94618e40",
   "metadata": {},
   "source": [
    "The datasets utilized in this project contain various acronyms that may be unfamiliar to those who are not avid followers of the sport. However, even seasoned fans might encounter certain acronyms with which they are not familiar.\n",
    "\n",
    "<b><u>Acronyms used to measure player performance:<b><u> \n",
    "    \n",
    "<b>AB</b> : At Bats\n",
    "    \n",
    "<b>R</b> : Runs\n",
    "    \n",
    "<b>H</b> : Hits\n",
    "    \n",
    "<b>2B</b> : Doubles\n",
    "    \n",
    "<b>3B</b> : Triples \n",
    "    \n",
    "<b>HR</b> : Homeruns\n",
    "    \n",
    "<b>RBI</b> : Runs Batted In\n",
    "    \n",
    "<b>SB</b> : Stolen Bases\n",
    "    \n",
    "<b>CS</b> : Caught Stealing\n",
    "    \n",
    "<b>BB</b> : Runs Batted In\n",
    "    \n",
    "<b>SO</b> : Strike Outs\n",
    "    \n",
    "<b>IBB</b> : Intentional Walks\n",
    "    \n",
    "<b>HBP</b> : Hits by Pitch\n",
    "    \n",
    "<b>SH</b> : Sacrifice Hits\n",
    "    \n",
    "<b>SF</b> : Sacrifice Flies\n",
    "    \n",
    "<b>GIDP</b> : Ground Into Double Plays\n",
    "    \n",
    "<b><u>Acronyms used to measure team performance:<b><u> \n",
    "\n",
    "<b>AL</b> : American League \n",
    "\n",
    "<b>NL</b> : National League    \n",
    "    \n",
    "<b>WCwin</b> : Wildcard Win\n",
    "    \n",
    "<b>Lgwin</b> : League Win\n",
    "    \n",
    "<b>WSwin</b> : World Series Win \n",
    " \n",
    "<b>RA</b> : Runs Allowed  \n",
    " \n",
    "<b>ER</b> : Earned Runs\n",
    "    \n",
    "<b>ERA</b> : Earned Run Average\n",
    "    \n",
    "<b>CG</b> : Complete Games\n",
    "    \n",
    "<b>SHO</b> : Shut Outs\n",
    " \n",
    "<b>SV</b> : Saves\n",
    "    \n",
    "<b>HA</b> : Hits Allowed\n",
    "    \n",
    "<b>HRA</b> : Home Runs Allowed\n",
    "    \n",
    "<b>BBA</b> : Base on Balls Allowed\n",
    "  \n",
    "<b>DP</b> : Double Play\n",
    "\n",
    "<b>FP</b> : Fiedling Percentage \n",
    "    \n"
   ]
  },
  {
   "cell_type": "code",
   "execution_count": null,
   "id": "58316c8c",
   "metadata": {},
   "outputs": [],
   "source": []
  }
 ],
 "metadata": {
  "kernelspec": {
   "display_name": "Python 3 (ipykernel)",
   "language": "python",
   "name": "python3"
  },
  "language_info": {
   "codemirror_mode": {
    "name": "ipython",
    "version": 3
   },
   "file_extension": ".py",
   "mimetype": "text/x-python",
   "name": "python",
   "nbconvert_exporter": "python",
   "pygments_lexer": "ipython3",
   "version": "3.11.4"
  }
 },
 "nbformat": 4,
 "nbformat_minor": 5
}
